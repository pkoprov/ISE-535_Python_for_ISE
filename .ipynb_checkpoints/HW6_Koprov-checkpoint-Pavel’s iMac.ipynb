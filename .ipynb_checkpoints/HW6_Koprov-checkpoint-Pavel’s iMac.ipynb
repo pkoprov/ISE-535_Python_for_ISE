{
 "cells": [
  {
   "cell_type": "code",
   "execution_count": 20,
   "id": "2c1fbedb",
   "metadata": {},
   "outputs": [
    {
     "name": "stdout",
     "output_type": "stream",
     "text": [
      "Excersize 1\n",
      "[73 14 52 93 18 77 98 79 48 70 83 16 95 98 35 13 66 28 56 20] \n",
      " 26.504219440863974\n",
      "The index in aVec whose value is closest to b is 17\n"
     ]
    }
   ],
   "source": [
    "print(\"Excersize 1\")\n",
    "import numpy as np\n",
    "\n",
    "aVec = np.random.randint(0, 100, 20)\n",
    "b = np.random.random()*100\n",
    "print(aVec, '\\n', b)\n",
    "closest_ind = np.argmin(np.abs(aVec - b))\n",
    "print(\"The index in aVec whose value is closest to b is %s\" % closest_ind)"
   ]
  },
  {
   "cell_type": "code",
   "execution_count": 21,
   "id": "f7a1f8a8",
   "metadata": {},
   "outputs": [
    {
     "name": "stdout",
     "output_type": "stream",
     "text": [
      "Excersize 2\n",
      "[0.25339495 0.63162767 0.50420482 0.34625458 0.27373001 0.45178532\n",
      " 0.96600383 0.05387858 0.92851148 0.2597528  0.51819749 0.66085194\n",
      " 0.57224165 0.69970228 0.09828341]\n",
      "[ 0.25339495  0.63162767  0.50420482  0.34625458  0.27373001  0.45178532\n",
      " -1.          0.05387858  0.92851148  0.2597528   0.51819749  0.66085194\n",
      "  0.57224165  0.69970228  0.09828341]\n"
     ]
    }
   ],
   "source": [
    "print(\"Excersize 2\")\n",
    "vec = np.random.random(15)\n",
    "print(vec)\n",
    "vec[np.argmax(vec)] = -1\n",
    "print(vec)"
   ]
  },
  {
   "cell_type": "code",
   "execution_count": 22,
   "id": "390c8684",
   "metadata": {},
   "outputs": [
    {
     "name": "stdout",
     "output_type": "stream",
     "text": [
      "Excersize 3\n",
      "[[-1  0 -1  0 -1 -1 -1  0 -1  0  0]\n",
      " [ 0 -1  0 -1 -1  0 -1  0 -1 -1 -1]\n",
      " [ 0  0  0  0  0  0  0  0 -1 -1 -1]]\n"
     ]
    }
   ],
   "source": [
    "print(\"Excersize 3\")\n",
    "A = np.array([[1, 0, 1, 0, 1, 1, 1, 0, 1, 0, 0],\n",
    "              [0, 1, 0, 1, 1, 0, 1, 0, 1, 1, 1],\n",
    "              [0, 0, 0, 0, 0, 0, 0, 0, 1, 1, 1]])\n",
    "\n",
    "A = np.where(A != 0, -1, A)\n",
    "print(A)"
   ]
  },
  {
   "cell_type": "code",
   "execution_count": 23,
   "id": "43a0fead",
   "metadata": {},
   "outputs": [
    {
     "name": "stdout",
     "output_type": "stream",
     "text": [
      "Excersize 4\n",
      "[99 17 59 93 89 33 13 20 66 81 72 77 38 44 94 91 86 18 41 69]\n",
      "60.0\n",
      "[99  0  0 93 89  0  0  0 66 81 72 77  0  0 94 91 86  0  0 69]\n"
     ]
    }
   ],
   "source": [
    "print(\"Excersize 4\")\n",
    "\n",
    "vect = np.random.randint(10, 100, 20) \n",
    "print(vect)\n",
    "mean = np.mean(vect)\n",
    "print(mean)\n",
    "vect[vect < mean] = 0\n",
    "print(vect)"
   ]
  },
  {
   "cell_type": "code",
   "execution_count": 24,
   "id": "8f1785c8",
   "metadata": {},
   "outputs": [
    {
     "name": "stdout",
     "output_type": "stream",
     "text": [
      "Excersize 5\n",
      "[-3.  2.  1.]\n"
     ]
    }
   ],
   "source": [
    "print(\"Excersize 5\")\n",
    "\n",
    "def solve_system(A, b):\n",
    "    return np.linalg.solve(A, b)\n",
    "\n",
    "\n",
    "A = np.array([[1, 2, 1], [2, 6, 1], [1, 1, 4]])\n",
    "b = np.array([2, 7, 3])\n",
    "print(solve_system(A, b))"
   ]
  },
  {
   "cell_type": "code",
   "execution_count": 26,
   "id": "65a1b0e8",
   "metadata": {},
   "outputs": [
    {
     "name": "stdout",
     "output_type": "stream",
     "text": [
      "Excersize 6\n",
      "v=  [36 34  1  5 59 42 61 78 51 31]\n",
      "B=  [[87 31 13 38  8]\n",
      " [40 40 85 18 87]\n",
      " [46  7 34 33 67]\n",
      " [56 77 21 71 39]\n",
      " [29 92 78  5 72]\n",
      " [56 29 71 34  5]\n",
      " [ 2 59 39 81 78]\n",
      " [20 19  4 45  2]\n",
      " [31 62 27 84  4]\n",
      " [ 9 15 27 97 28]]\n",
      "Result:  [[ 51  -5 -23   2 -28]\n",
      " [  6   6  51 -16  53]\n",
      " [ 45   6  33  32  66]\n",
      " [ 51  72  16  66  34]\n",
      " [-30  33  19 -54  13]\n",
      " [ 14 -13  29  -8 -37]\n",
      " [-59  -2 -22  20  17]\n",
      " [-58 -59 -74 -33 -76]\n",
      " [-20  11 -24  33 -47]\n",
      " [-22 -16  -4  66  -3]]\n"
     ]
    }
   ],
   "source": [
    "print(\"Excersize 6\")\n",
    "\n",
    "v = np.random.randint(1,100 ,10)\n",
    "print(\"v= \", v)\n",
    "B = np.random.randint(1,100 ,(10,5))\n",
    "print(\"B= \", B)\n",
    "\n",
    "X = (B.transpose() - v).transpose()\n",
    "print(\"Result: \", X)"
   ]
  },
  {
   "cell_type": "code",
   "execution_count": 27,
   "id": "bddbe763",
   "metadata": {},
   "outputs": [
    {
     "name": "stdout",
     "output_type": "stream",
     "text": [
      "Excersize 7\n",
      "a)\n",
      "[ 2.96747967 30.6504065 ]\n"
     ]
    }
   ],
   "source": [
    "print(\"Excersize 7\")\n",
    "\n",
    "ad_expend = np.array([12, 14, 17, 21, 26, 30])\n",
    "profit = np.array([60, 70, 90, 100, 100, 120])\n",
    "\n",
    "print(\"a)\")\n",
    "\n",
    "def best_fit(x, y):\n",
    "    return np.polyfit(x, y, 1)\n",
    "\n",
    "\n",
    "print(best_fit(ad_expend, profit))"
   ]
  },
  {
   "cell_type": "code",
   "execution_count": 31,
   "id": "2c578dd6",
   "metadata": {},
   "outputs": [
    {
     "name": "stdout",
     "output_type": "stream",
     "text": [
      "b)\n"
     ]
    },
    {
     "data": {
      "image/png": "[encoded data removed]",
      "text/plain": [
       "<Figure size 432x288 with 1 Axes>"
      ]
     },
     "metadata": {
      "needs_background": "light"
     },
     "output_type": "display_data"
    }
   ],
   "source": [
    "print(\"b)\")\n",
    "import matplotlib.pyplot as plt\n",
    "\n",
    "plt.plot(ad_expend, profit, 'o')\n",
    "plt.plot(ad_expend, best_fit(ad_expend, profit)[0] * ad_expend + best_fit(ad_expend, profit)[1])\n",
    "plt.show()"
   ]
  },
  {
   "cell_type": "code",
   "execution_count": 32,
   "id": "0c7ca032",
   "metadata": {},
   "outputs": [
    {
     "name": "stdout",
     "output_type": "stream",
     "text": [
      "c)\n",
      "179.02439024390245\n"
     ]
    }
   ],
   "source": [
    "print(\"c)\")\n",
    "print(best_fit(ad_expend, profit)[0]*50 + best_fit(ad_expend, profit)[1])"
   ]
  },
  {
   "cell_type": "code",
   "execution_count": 43,
   "id": "9aedbbd9",
   "metadata": {},
   "outputs": [
    {
     "name": "stdout",
     "output_type": "stream",
     "text": [
      "Excersize 8\n",
      "a) Total number of records across all years (1880 – 2021) =  2052639\n"
     ]
    }
   ],
   "source": [
    "print(\"Excersize 8\")\n",
    "\n",
    "import pandas as pd\n",
    "import os\n",
    "\n",
    "records = 0\n",
    "for file in os.listdir(os.getcwd()+\"/names\"):\n",
    "    if file.endswith(\".txt\"):\n",
    "        df = pd.read_csv(os.getcwd()+\"/names/\"+file)\n",
    "        records += len(df)\n",
    "\n",
    "print(\"a) Total number of records across all years (1880 – 2021) = \", records)"
   ]
  },
  {
   "cell_type": "code",
   "execution_count": 42,
   "id": "724b5916",
   "metadata": {},
   "outputs": [
    {
     "name": "stdout",
     "output_type": "stream",
     "text": [
      "b)\n"
     ]
    },
    {
     "ename": "KeyboardInterrupt",
     "evalue": "",
     "output_type": "error",
     "traceback": [
      "\u001b[0;31m---------------------------------------------------------------------------\u001b[0m",
      "\u001b[0;31mKeyboardInterrupt\u001b[0m                         Traceback (most recent call last)",
      "Input \u001b[0;32mIn [42]\u001b[0m, in \u001b[0;36m<cell line: 4>\u001b[0;34m()\u001b[0m\n\u001b[1;32m      8\u001b[0m \u001b[38;5;28;01mfor\u001b[39;00m n \u001b[38;5;129;01min\u001b[39;00m npar:\n\u001b[1;32m      9\u001b[0m     \u001b[38;5;28;01mif\u001b[39;00m n[\u001b[38;5;241m0\u001b[39m] \u001b[38;5;129;01mnot\u001b[39;00m \u001b[38;5;129;01min\u001b[39;00m res_df[\u001b[38;5;124m\"\u001b[39m\u001b[38;5;124mName\u001b[39m\u001b[38;5;124m\"\u001b[39m]:\n\u001b[0;32m---> 10\u001b[0m         \u001b[38;5;28;01mfor\u001b[39;00m i, j \u001b[38;5;129;01min\u001b[39;00m \u001b[38;5;28menumerate\u001b[39m(\u001b[43mres_df\u001b[49m\u001b[38;5;241;43m.\u001b[39;49m\u001b[43mkeys\u001b[49m\u001b[43m(\u001b[49m\u001b[43m)\u001b[49m):\n\u001b[1;32m     11\u001b[0m             res_df[j] \u001b[38;5;241m+\u001b[39m\u001b[38;5;241m=\u001b[39m [n[i]]\n\u001b[1;32m     12\u001b[0m     \u001b[38;5;28;01melse\u001b[39;00m:\n",
      "\u001b[0;31mKeyboardInterrupt\u001b[0m: "
     ]
    }
   ],
   "source": [
    "print(\"b)\")\n",
    "\n",
    "res_df = pd.DataFrame(columns=[\"Sex\", \"Name\", \"Total\"])\n",
    "for file in os.listdir(os.getcwd() + \"/names\"):\n",
    "    if file.endswith(\".txt\"):\n",
    "        df = pd.read_csv(os.getcwd() + \"/names/\" + file, names=[\"Name\", \"Sex\", \"Total\"])\n",
    "        for n in df.iterrows():\n",
    "            if n[1][\"Name\"] not in res_df[\"Name\"]:\n",
    "                res_df = pd.concat([res_df, pd.Series(n[1]).to_frame().T])\n",
    "            else:\n",
    "                res_df[\"Total\"].loc[res_df[\"Name\"] == n[1][\"Name\"]] += n[1][\"Total\"]\n",
    "\n",
    "pd.DataFrame(res_df).to_csv(\"names_res.csv\")"
   ]
  },
  {
   "cell_type": "code",
   "execution_count": 36,
   "id": "f087ca09",
   "metadata": {},
   "outputs": [
    {
     "name": "stdout",
     "output_type": "stream",
     "text": [
      "c)\n"
     ]
    },
    {
     "data": {
      "image/png": "[encoded data removed]",
      "text/plain": [
       "<Figure size 432x288 with 1 Axes>"
      ]
     },
     "metadata": {
      "needs_background": "light"
     },
     "output_type": "display_data"
    }
   ],
   "source": [
    "print(\"c)\")\n",
    "data = np.zeros((5, len(os.listdir(os.getcwd() + \"/names\"))), dtype=int)\n",
    "for n, file in enumerate(os.listdir(os.getcwd() + \"/names\")):\n",
    "    if file.endswith(\".txt\"):\n",
    "        data[0][n] = int(file[3:7])\n",
    "        df = pd.read_csv(os.getcwd() + \"/names/\" + file, names=[\"Name\", \"Sex\", \"Total\"])\n",
    "        data[1][n] = df[\"Total\"].loc[df[\"Name\"] == \"Harper\"].sum()\n",
    "        data[2][n] = df[\"Total\"].loc[df[\"Name\"] == \"Evelynn\"].sum()\n",
    "        data[3][n] = df[\"Total\"].loc[df[\"Name\"] == \"Evan\"].sum()\n",
    "        data[4][n] = df[\"Total\"].loc[df[\"Name\"] == \"Ethan\"].sum()\n",
    "\n",
    "plt.scatter(data[0], data[1], label=\"Harper\", marker = \"o\")\n",
    "plt.scatter(data[0], data[2], label=\"Evelynn\", marker = \"o\")\n",
    "plt.scatter(data[0], data[3], label=\"Evan\", marker = \"o\")\n",
    "plt.scatter(data[0], data[4], label=\"Ethan\", marker = \"o\")\n",
    "plt.legend()\n",
    "plt.show()\n"
   ]
  },
  {
   "cell_type": "code",
   "execution_count": 41,
   "id": "b84b2088",
   "metadata": {},
   "outputs": [
    {
     "name": "stdout",
     "output_type": "stream",
     "text": [
      "d)\n",
      "    Year     M       F\n",
      "0   1880  John    Mary\n",
      "0   1881  John    Mary\n",
      "0   1882  John    Mary\n",
      "0   1883  John    Mary\n",
      "0   1884  John    Mary\n",
      "..   ...   ...     ...\n",
      "0   2017  Liam    Emma\n",
      "0   2018  Liam    Emma\n",
      "0   2019  Liam  Olivia\n",
      "0   2020  Liam  Olivia\n",
      "0   2021  Liam  Olivia\n",
      "\n",
      "[142 rows x 3 columns]\n"
     ]
    }
   ],
   "source": [
    "print(\"d)\")\n",
    "\n",
    "data = pd.DataFrame(columns=[\"Year\", \"M\", \"F\"])\n",
    "for n, file in enumerate(os.listdir(os.getcwd() + \"/names\")):\n",
    "    if file.endswith(\".txt\"):\n",
    "        year = file[3:7]\n",
    "        df = pd.read_csv(os.getcwd() + \"/names/\" + file, names=[\"Name\", \"Sex\", \"Total\"])\n",
    "        M = df[\"Name\"].iloc[df[\"Total\"].loc[df[\"Sex\"] == \"M\"].idxmax()]\n",
    "        F = df[\"Name\"].iloc[df[\"Total\"].loc[df[\"Sex\"] == \"F\"].idxmax()]\n",
    "        data = pd.concat([data, pd.Series([year, M, F], index=[\"Year\", \"M\", \"F\"]).to_frame().T], join=\"inner\")\n",
    "\n",
    "print(data.sort_values(\"Year\"))"
   ]
  },
  {
   "cell_type": "code",
   "execution_count": null,
   "id": "40e40360",
   "metadata": {},
   "outputs": [],
   "source": []
  }
 ],
 "metadata": {
  "kernelspec": {
   "display_name": "Python 3 (ipykernel)",
   "language": "python",
   "name": "python3"
  },
  "language_info": {
   "codemirror_mode": {
    "name": "ipython",
    "version": 3
   },
   "file_extension": ".py",
   "mimetype": "text/x-python",
   "name": "python",
   "nbconvert_exporter": "python",
   "pygments_lexer": "ipython3",
   "version": "3.10.4"
  }
 },
 "nbformat": 4,
 "nbformat_minor": 5
}

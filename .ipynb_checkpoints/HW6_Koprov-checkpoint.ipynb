{
 "cells": [
  {
   "cell_type": "code",
   "execution_count": 14,
   "id": "2c1fbedb",
   "metadata": {},
   "outputs": [
    {
     "name": "stdout",
     "output_type": "stream",
     "text": [
      "Excersize 1\n",
      "[18 33 78  3 31 11 34  0 52 86 33 82 80  7 48 85 13 29 52  7] \n",
      " 4.882112571296182\n",
      "The index in aVec whose value is closest to b is 3\n"
     ]
    }
   ],
   "source": [
    "print(\"Excersize 1\")\n",
    "import numpy as np\n",
    "\n",
    "aVec = np.random.randint(0, 100, 20)\n",
    "b = np.random.random()*100\n",
    "print(aVec, '\\n', b)\n",
    "closest_ind = np.argmin(np.abs(aVec - b))\n",
    "print(\"The index in aVec whose value is closest to b is %s\" % closest_ind)"
   ]
  },
  {
   "cell_type": "code",
   "execution_count": 15,
   "id": "f7a1f8a8",
   "metadata": {},
   "outputs": [
    {
     "name": "stdout",
     "output_type": "stream",
     "text": [
      "Excersize 2\n",
      "[0.53644034 0.96148955 0.91615909 0.35038883 0.79282926 0.61890721\n",
      " 0.99566997 0.99975543 0.5633686  0.01180307 0.5080089  0.26380391\n",
      " 0.11442594 0.41170436 0.07442626]\n",
      "[ 0.53644034  0.96148955  0.91615909  0.35038883  0.79282926  0.61890721\n",
      "  0.99566997 -1.          0.5633686   0.01180307  0.5080089   0.26380391\n",
      "  0.11442594  0.41170436  0.07442626]\n"
     ]
    }
   ],
   "source": [
    "print(\"Excersize 2\")\n",
    "vec = np.random.random(15)\n",
    "print(vec)\n",
    "vec[np.argmax(vec)] = -1\n",
    "print(vec)"
   ]
  },
  {
   "cell_type": "code",
   "execution_count": 16,
   "id": "390c8684",
   "metadata": {},
   "outputs": [
    {
     "name": "stdout",
     "output_type": "stream",
     "text": [
      "Excersize 3\n",
      "[[-1  0 -1  0 -1 -1 -1  0 -1  0  0]\n",
      " [ 0 -1  0 -1 -1  0 -1  0 -1 -1 -1]\n",
      " [ 0  0  0  0  0  0  0  0 -1 -1 -1]]\n"
     ]
    }
   ],
   "source": [
    "print(\"Excersize 3\")\n",
    "A = np.array([[1, 0, 1, 0, 1, 1, 1, 0, 1, 0, 0],\n",
    "              [0, 1, 0, 1, 1, 0, 1, 0, 1, 1, 1],\n",
    "              [0, 0, 0, 0, 0, 0, 0, 0, 1, 1, 1]])\n",
    "\n",
    "A = np.where(A != 0, -1, A)\n",
    "print(A)"
   ]
  },
  {
   "cell_type": "code",
   "execution_count": 17,
   "id": "43a0fead",
   "metadata": {},
   "outputs": [
    {
     "name": "stdout",
     "output_type": "stream",
     "text": [
      "Excersize 4\n",
      "[16 95 69 10 51 25 95 87 51 85 47 41 32 30 20 65 66 30 35 20]\n",
      "48.5\n",
      "[ 0 95 69  0 51  0 95 87 51 85  0  0  0  0  0 65 66  0  0  0]\n"
     ]
    }
   ],
   "source": [
    "print(\"Excersize 4\")\n",
    "\n",
    "vect = np.random.randint(10, 100, 20) \n",
    "print(vect)\n",
    "mean = np.mean(vect)\n",
    "print(mean)\n",
    "vect[vect < mean] = 0\n",
    "print(vect)"
   ]
  },
  {
   "cell_type": "code",
   "execution_count": 18,
   "id": "8f1785c8",
   "metadata": {},
   "outputs": [
    {
     "name": "stdout",
     "output_type": "stream",
     "text": [
      "Excersize 5\n",
      "[-3.  2.  1.]\n"
     ]
    }
   ],
   "source": [
    "print(\"Excersize 5\")\n",
    "\n",
    "def solve_system(A, b):\n",
    "    return np.linalg.solve(A, b)\n",
    "\n",
    "\n",
    "A = np.array([[1, 2, 1], [2, 6, 1], [1, 1, 4]])\n",
    "b = np.array([2, 7, 3])\n",
    "print(solve_system(A, b))"
   ]
  },
  {
   "cell_type": "code",
   "execution_count": 19,
   "id": "65a1b0e8",
   "metadata": {},
   "outputs": [
    {
     "name": "stdout",
     "output_type": "stream",
     "text": [
      "Excersize 6\n",
      "v=  [52 44 53 35 53 29 54 64 32 85]\n",
      "B=  [[37 34 85 88 95]\n",
      " [49 89 63 65 61]\n",
      " [12 72 31 35 78]\n",
      " [ 3 35  9 56 56]\n",
      " [47 55 34 18 80]\n",
      " [73 30 42 24 13]\n",
      " [60 25 77 89 19]\n",
      " [96 26  2  4  3]\n",
      " [69 13 59 98 57]\n",
      " [18  1 19 78 23]]\n",
      "Result:  [[-15 -18  33  36  43]\n",
      " [  5  45  19  21  17]\n",
      " [-41  19 -22 -18  25]\n",
      " [-32   0 -26  21  21]\n",
      " [ -6   2 -19 -35  27]\n",
      " [ 44   1  13  -5 -16]\n",
      " [  6 -29  23  35 -35]\n",
      " [ 32 -38 -62 -60 -61]\n",
      " [ 37 -19  27  66  25]\n",
      " [-67 -84 -66  -7 -62]]\n"
     ]
    }
   ],
   "source": [
    "print(\"Excersize 6\")\n",
    "\n",
    "v = np.random.randint(1,100 ,10)\n",
    "print(\"v= \", v)\n",
    "B = np.random.randint(1,100 ,(10,5))\n",
    "print(\"B= \", B)\n",
    "\n",
    "X = (B.transpose() - v).transpose()\n",
    "print(\"Result: \", X)"
   ]
  },
  {
   "cell_type": "code",
   "execution_count": 20,
   "id": "bddbe763",
   "metadata": {},
   "outputs": [
    {
     "name": "stdout",
     "output_type": "stream",
     "text": [
      "Excersize 7\n",
      "a)\n",
      "[ 2.96747967 30.6504065 ]\n"
     ]
    }
   ],
   "source": [
    "print(\"Excersize 7\")\n",
    "\n",
    "ad_expend = np.array([12, 14, 17, 21, 26, 30])\n",
    "profit = np.array([60, 70, 90, 100, 100, 120])\n",
    "\n",
    "print(\"a)\")\n",
    "\n",
    "def best_fit(x, y):\n",
    "    return np.polyfit(x, y, 1)\n",
    "\n",
    "\n",
    "print(best_fit(ad_expend, profit))"
   ]
  },
  {
   "cell_type": "code",
   "execution_count": 21,
   "id": "2c578dd6",
   "metadata": {},
   "outputs": [
    {
     "name": "stdout",
     "output_type": "stream",
     "text": [
      "b)\n"
     ]
    },
    {
     "data": {
      "image/png": "[encoded data removed]",
      "text/plain": [
       "<Figure size 432x288 with 1 Axes>"
      ]
     },
     "metadata": {
      "needs_background": "light"
     },
     "output_type": "display_data"
    }
   ],
   "source": [
    "print(\"b)\")\n",
    "import matplotlib.pyplot as plt\n",
    "\n",
    "plt.plot(ad_expend, profit, 'o')\n",
    "plt.plot(ad_expend, best_fit(ad_expend, profit)[0] * ad_expend + best_fit(ad_expend, profit)[1])\n",
    "plt.show()"
   ]
  },
  {
   "cell_type": "code",
   "execution_count": 22,
   "id": "0c7ca032",
   "metadata": {},
   "outputs": [
    {
     "name": "stdout",
     "output_type": "stream",
     "text": [
      "c)\n",
      "179.02439024390245\n"
     ]
    }
   ],
   "source": [
    "print(\"c)\")\n",
    "print(best_fit(ad_expend, profit)[0]*50 + best_fit(ad_expend, profit)[1])"
   ]
  },
  {
   "cell_type": "code",
   "execution_count": 23,
   "id": "9aedbbd9",
   "metadata": {},
   "outputs": [
    {
     "name": "stdout",
     "output_type": "stream",
     "text": [
      "Excersize 8\n",
      "a) Total number of records across all years (1880 – 2021) =  2052781\n"
     ]
    }
   ],
   "source": [
    "print(\"Excersize 8\")\n",
    "\n",
    "import pandas as pd\n",
    "import os\n",
    "\n",
    "\n",
    "records = 0\n",
    "for file in os.listdir(os.getcwd() + \"/names\"):\n",
    "    if file.endswith(\".txt\"):\n",
    "        with open(os.getcwd() + \"/names/\" + file, 'r') as csv:\n",
    "            records += len(csv.readlines())\n",
    "\n",
    "print(\"a) Total number of records across all years (1880 – 2021) = \", records)"
   ]
  },
  {
   "cell_type": "code",
   "execution_count": 26,
   "id": "724b5916",
   "metadata": {},
   "outputs": [
    {
     "name": "stdout",
     "output_type": "stream",
     "text": [
      "Year 1880, Year 1881, Year 1882, Year 1883, Year 1884, Year 1885, Year 1886, Year 1887, Year 1888, Year 1889, Year 1890, Year 1891, Year 1892, Year 1893, Year 1894, Year 1895, Year 1896, Year 1897, Year 1898, Year 1899, Year 1900, Year 1901, Year 1902, Year 1903, Year 1904, Year 1905, Year 1906, Year 1907, Year 1908, Year 1909, Year 1910, Year 1911, Year 1912, Year 1913, Year 1914, Year 1915, Year 1916, Year 1917, Year 1918, Year 1919, Year 1920, Year 1921, Year 1922, Year 1923, Year 1924, Year 1925, Year 1926, Year 1927, Year 1928, Year 1929, Year 1930, Year 1931, Year 1932, Year 1933, Year 1934, Year 1935, Year 1936, Year 1937, Year 1938, Year 1939, Year 1940, Year 1941, Year 1942, Year 1943, Year 1944, Year 1945, Year 1946, Year 1947, Year 1948, Year 1949, Year 1950, Year 1951, Year 1952, Year 1953, Year 1954, Year 1955, Year 1956, Year 1957, Year 1958, Year 1959, Year 1960, Year 1961, Year 1962, Year 1963, Year 1964, Year 1965, Year 1966, Year 1967, Year 1968, Year 1969, Year 1970, Year 1971, Year 1972, Year 1973, Year 1974, Year 1975, Year 1976, Year 1977, Year 1978, Year 1979, Year 1980, Year 1981, Year 1982, Year 1983, Year 1984, Year 1985, Year 1986, Year 1987, Year 1988, Year 1989, Year 1990, Year 1991, Year 1992, Year 1993, Year 1994, Year 1995, Year 1996, Year 1997, Year 1998, Year 1999, Year 2000, Year 2001, Year 2002, Year 2003, Year 2004, Year 2005, Year 2006, Year 2007, Year 2008, Year 2009, Year 2010, Year 2011, Year 2012, Year 2013, Year 2014, Year 2015, Year 2016, Year 2017, Year 2018, Year 2019, Year 2020, Year 2021, b) The number of times that each name was used, separately for boys and girls across all years is in 'total_df'\n",
      "               Total\n",
      "Sex Name            \n",
      "F   Aabha         51\n",
      "    Aabidah        5\n",
      "    Aabriella     51\n",
      "    Aada          13\n",
      "    Aadaya         9\n",
      "...              ...\n",
      "M   Zyus          11\n",
      "    Zyvion         5\n",
      "    Zyvon          7\n",
      "    Zyyon          6\n",
      "    Zzyzx         10\n",
      "\n",
      "[112620 rows x 1 columns]\n"
     ]
    }
   ],
   "source": [
    "total_df = pd.DataFrame(columns=[\"Name\", \"Sex\", \"Total\"]).set_index([\"Sex\", \"Name\"])\n",
    "for file in os.listdir(os.getcwd() + \"/names\"):\n",
    "    if file.endswith(\".txt\"):\n",
    "        print(\"Year\", file[3:-4] + \", \", end = '')\n",
    "        df = pd.read_csv(os.getcwd() + \"/names/\" + file, names=[\"Name\", \"Sex\", \"Total\"]).set_index([\"Sex\",\"Name\"])\n",
    "        total_df = pd.concat([total_df, df]).groupby([\"Sex\",\"Name\"]).sum()\n",
    "\n",
    "print(\"b) The number of times that each name was used, separately for boys and girls across all years is in 'total_df'\")\n",
    "print(total_df)"
   ]
  },
  {
   "cell_type": "code",
   "execution_count": 27,
   "id": "f087ca09",
   "metadata": {},
   "outputs": [
    {
     "name": "stdout",
     "output_type": "stream",
     "text": [
      "c)\n",
      "Year 1880, Year 1881, Year 1882, Year 1883, Year 1884, Year 1885, Year 1886, Year 1887, Year 1888, Year 1889, Year 1890, Year 1891, Year 1892, Year 1893, Year 1894, Year 1895, Year 1896, Year 1897, Year 1898, Year 1899, Year 1900, Year 1901, Year 1902, Year 1903, Year 1904, Year 1905, Year 1906, Year 1907, Year 1908, Year 1909, Year 1910, Year 1911, Year 1912, Year 1913, Year 1914, Year 1915, Year 1916, Year 1917, Year 1918, Year 1919, Year 1920, Year 1921, Year 1922, Year 1923, Year 1924, Year 1925, Year 1926, Year 1927, Year 1928, Year 1929, Year 1930, Year 1931, Year 1932, Year 1933, Year 1934, Year 1935, Year 1936, Year 1937, Year 1938, Year 1939, Year 1940, Year 1941, Year 1942, Year 1943, Year 1944, Year 1945, Year 1946, Year 1947, Year 1948, Year 1949, Year 1950, Year 1951, Year 1952, Year 1953, Year 1954, Year 1955, Year 1956, Year 1957, Year 1958, Year 1959, Year 1960, Year 1961, Year 1962, Year 1963, Year 1964, Year 1965, Year 1966, Year 1967, Year 1968, Year 1969, Year 1970, Year 1971, Year 1972, Year 1973, Year 1974, Year 1975, Year 1976, Year 1977, Year 1978, Year 1979, Year 1980, Year 1981, Year 1982, Year 1983, Year 1984, Year 1985, Year 1986, Year 1987, Year 1988, Year 1989, Year 1990, Year 1991, Year 1992, Year 1993, Year 1994, Year 1995, Year 1996, Year 1997, Year 1998, Year 1999, Year 2000, Year 2001, Year 2002, Year 2003, Year 2004, Year 2005, Year 2006, Year 2007, Year 2008, Year 2009, Year 2010, Year 2011, Year 2012, Year 2013, Year 2014, Year 2015, Year 2016, Year 2017, Year 2018, Year 2019, Year 2020, Year 2021, "
     ]
    },
    {
     "data": {
      "text/plain": [
       "<matplotlib.legend.Legend at 0x1bd587753c0>"
      ]
     },
     "execution_count": 27,
     "metadata": {},
     "output_type": "execute_result"
    },
    {
     "data": {
      "image/png": "[encoded data removed]",
      "text/plain": [
       "<Figure size 432x288 with 1 Axes>"
      ]
     },
     "metadata": {
      "needs_background": "light"
     },
     "output_type": "display_data"
    }
   ],
   "source": [
    "import matplotlib.pyplot as plt\n",
    "print(\"c)\")\n",
    "\n",
    "data = {\"year\":[], 'Harper': [], 'Evelynn': [], 'Evan': [], 'Ethan': []}\n",
    "for n, file in enumerate(os.listdir(os.getcwd() + \"/names\")):\n",
    "    if file.endswith(\".txt\"):\n",
    "        print(\"Year\", file[3:-4] + \", \", end = '')\n",
    "        data[\"year\"] += [int(file[3:-4])]\n",
    "        df = pd.read_csv(os.getcwd() + \"/names/\" + file, names=[\"Name\", \"Sex\", \"Total\"])\n",
    "        for name in ['Harper', 'Evelynn', 'Evan', 'Ethan']:\n",
    "            data[name] += [df[\"Total\"].loc[df[\"Name\"] == name].sum()]\n",
    "\n",
    "df = pd.DataFrame(data)\n",
    "[plt.scatter(df[\"year\"], df[name], label = name) for name in ['Harper', 'Evelynn', 'Evan', 'Ethan']]\n",
    "plt.legend()\n"
   ]
  },
  {
   "cell_type": "code",
   "execution_count": 28,
   "id": "b84b2088",
   "metadata": {},
   "outputs": [
    {
     "name": "stdout",
     "output_type": "stream",
     "text": [
      "Year 1880, Year 1881, Year 1882, Year 1883, Year 1884, Year 1885, Year 1886, Year 1887, Year 1888, Year 1889, Year 1890, Year 1891, Year 1892, Year 1893, Year 1894, Year 1895, Year 1896, Year 1897, Year 1898, Year 1899, Year 1900, Year 1901, Year 1902, Year 1903, Year 1904, Year 1905, Year 1906, Year 1907, Year 1908, Year 1909, Year 1910, Year 1911, Year 1912, Year 1913, Year 1914, Year 1915, Year 1916, Year 1917, Year 1918, Year 1919, Year 1920, Year 1921, Year 1922, Year 1923, Year 1924, Year 1925, Year 1926, Year 1927, Year 1928, Year 1929, Year 1930, Year 1931, Year 1932, Year 1933, Year 1934, Year 1935, Year 1936, Year 1937, Year 1938, Year 1939, Year 1940, Year 1941, Year 1942, Year 1943, Year 1944, Year 1945, Year 1946, Year 1947, Year 1948, Year 1949, Year 1950, Year 1951, Year 1952, Year 1953, Year 1954, Year 1955, Year 1956, Year 1957, Year 1958, Year 1959, Year 1960, Year 1961, Year 1962, Year 1963, Year 1964, Year 1965, Year 1966, Year 1967, Year 1968, Year 1969, Year 1970, Year 1971, Year 1972, Year 1973, Year 1974, Year 1975, Year 1976, Year 1977, Year 1978, Year 1979, Year 1980, Year 1981, Year 1982, Year 1983, Year 1984, Year 1985, Year 1986, Year 1987, Year 1988, Year 1989, Year 1990, Year 1991, Year 1992, Year 1993, Year 1994, Year 1995, Year 1996, Year 1997, Year 1998, Year 1999, Year 2000, Year 2001, Year 2002, Year 2003, Year 2004, Year 2005, Year 2006, Year 2007, Year 2008, Year 2009, Year 2010, Year 2011, Year 2012, Year 2013, Year 2014, Year 2015, Year 2016, Year 2017, Year 2018, Year 2019, Year 2020, Year 2021, d) 10 most popular names for all Male ‘M’ names and Female – ‘F’ for every year:\n",
      "      1880                1881                1882                1883  \\\n",
      "         M          F        M          F        M          F        M   \n",
      "0     John       Mary     John       Mary     John       Mary     John   \n",
      "1  William       Anna  William       Anna  William       Anna  William   \n",
      "2    James       Emma    James       Emma    James       Emma    James   \n",
      "3  Charles  Elizabeth   George  Elizabeth   George  Elizabeth  Charles   \n",
      "4   George     Minnie  Charles   Margaret  Charles     Minnie   George   \n",
      "5    Frank   Margaret    Frank     Minnie    Frank   Margaret    Frank   \n",
      "6   Joseph        Ida   Joseph        Ida   Joseph        Ida   Joseph   \n",
      "7   Thomas      Alice    Henry      Annie   Thomas      Alice    Henry   \n",
      "8    Henry     Bertha   Thomas     Bertha    Henry     Bertha   Robert   \n",
      "9   Robert      Sarah   Edward      Alice   Robert      Annie   Thomas   \n",
      "\n",
      "                 1884             ...      2017                 2018  \\\n",
      "           F        M          F  ...         M          F         M   \n",
      "0       Mary     John       Mary  ...      Liam       Emma      Liam   \n",
      "1       Anna  William       Anna  ...      Noah     Olivia      Noah   \n",
      "2       Emma    James       Emma  ...   William        Ava   William   \n",
      "3  Elizabeth   George  Elizabeth  ...     James   Isabella     James   \n",
      "4     Minnie  Charles     Minnie  ...     Logan     Sophia    Oliver   \n",
      "5   Margaret    Frank   Margaret  ...  Benjamin        Mia  Benjamin   \n",
      "6     Bertha   Joseph        Ida  ...     Mason  Charlotte    Elijah   \n",
      "7        Ida   Thomas      Clara  ...    Elijah     Amelia     Lucas   \n",
      "8      Annie    Henry     Bertha  ...     Jacob     Evelyn     Mason   \n",
      "9      Clara   Robert      Annie  ...    Oliver    Abigail     Logan   \n",
      "\n",
      "                   2019                  2020                 2021             \n",
      "           F          M          F          M          F         M          F  \n",
      "0       Emma       Liam     Olivia       Liam     Olivia      Liam     Olivia  \n",
      "1     Olivia       Noah       Emma       Noah       Emma      Noah       Emma  \n",
      "2        Ava     Oliver        Ava     Oliver        Ava    Oliver  Charlotte  \n",
      "3   Isabella    William     Sophia     Elijah  Charlotte    Elijah     Amelia  \n",
      "4     Sophia     Elijah   Isabella    William     Sophia     James        Ava  \n",
      "5  Charlotte      James  Charlotte      James     Amelia   William     Sophia  \n",
      "6        Mia   Benjamin     Amelia   Benjamin   Isabella  Benjamin   Isabella  \n",
      "7     Amelia      Lucas        Mia      Lucas        Mia     Lucas        Mia  \n",
      "8     Harper      Mason     Harper      Henry     Evelyn     Henry     Evelyn  \n",
      "9     Evelyn  Alexander     Evelyn  Alexander     Harper  Theodore     Harper  \n",
      "\n",
      "[10 rows x 284 columns]\n"
     ]
    }
   ],
   "source": [
    "top10y = pd.DataFrame(index=range(10))\n",
    "columns = []\n",
    "for file in os.listdir(os.getcwd() + \"/names\"):\n",
    "    if file.endswith(\".txt\"):\n",
    "        year = file[3:7]\n",
    "        print(\"Year\", file[3:-4] + \", \", end = '')\n",
    "        df = pd.read_csv(os.getcwd() + \"/names/\" + file, names=[\"Name\", \"Sex\", \"Total\"])\n",
    "        top10M = df[\"Name\"][df[\"Sex\"] == \"M\"].head(10).reset_index(drop=True).to_frame()\n",
    "        top10M.columns = [\"M\"]\n",
    "        top10F = df[\"Name\"][df[\"Sex\"] == \"F\"].head(10).reset_index(drop=True).to_frame()\n",
    "        top10F.columns = [\"F\"]\n",
    "        top10y = pd.concat([top10y, top10M, top10F], axis=1)\n",
    "        for i in [\"M\", \"F\"]: columns.append((year, i))\n",
    "\n",
    "top10y.columns = pd.MultiIndex.from_tuples(columns)\n",
    "\n",
    "print(\"d) 10 most popular names for all Male ‘M’ names and Female – ‘F’ for every year:\")\n",
    "print(top10y)\n"
   ]
  },
  {
   "cell_type": "code",
   "execution_count": null,
   "id": "1fc71a27",
   "metadata": {},
   "outputs": [],
   "source": []
  }
 ],
 "metadata": {
  "kernelspec": {
   "display_name": "Python 3 (ipykernel)",
   "language": "python",
   "name": "python3"
  },
  "language_info": {
   "codemirror_mode": {
    "name": "ipython",
    "version": 3
   },
   "file_extension": ".py",
   "mimetype": "text/x-python",
   "name": "python",
   "nbconvert_exporter": "python",
   "pygments_lexer": "ipython3",
   "version": "3.10.3"
  }
 },
 "nbformat": 4,
 "nbformat_minor": 5
}
